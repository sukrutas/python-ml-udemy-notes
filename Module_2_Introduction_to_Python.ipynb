{
  "nbformat": 4,
  "nbformat_minor": 0,
  "metadata": {
    "colab": {
      "name": "Module_2_Introduction_to_Python.ipynb",
      "provenance": [],
      "collapsed_sections": [
        "5tasFpjzCLhW",
        "dvM-V2jmCLhW"
      ],
      "include_colab_link": true
    },
    "kernelspec": {
      "display_name": "Python 3",
      "language": "python",
      "name": "python3"
    },
    "language_info": {
      "codemirror_mode": {
        "name": "ipython",
        "version": 3
      },
      "file_extension": ".py",
      "mimetype": "text/x-python",
      "name": "python",
      "nbconvert_exporter": "python",
      "pygments_lexer": "ipython3",
      "version": "3.9.5"
    }
  },
  "cells": [
    {
      "cell_type": "markdown",
      "metadata": {
        "id": "view-in-github",
        "colab_type": "text"
      },
      "source": [
        "<a href=\"https://colab.research.google.com/github/sukrutas/python-ml-udemy-notes/blob/main/Module_2_Introduction_to_Python.ipynb\" target=\"_parent\"><img src=\"https://colab.research.google.com/assets/colab-badge.svg\" alt=\"Open In Colab\"/></a>"
      ]
    },
    {
      "cell_type": "markdown",
      "metadata": {
        "id": "UW-bYpQ3CLhW"
      },
      "source": [
        "# 2. Koşullar"
      ]
    },
    {
      "cell_type": "markdown",
      "metadata": {
        "id": "5tasFpjzCLhW"
      },
      "source": [
        "## 2.1 Operatörler\n",
        "\n",
        "Python'da ve dışında mantıksal operatörler çok azdır, örneğin \n",
        "`not, >, <, ==, >=, <=, !=`"
      ]
    },
    {
      "cell_type": "code",
      "metadata": {
        "id": "iHtD9TRzCLhW",
        "colab": {
          "base_uri": "https://localhost:8080/"
        },
        "outputId": "74beddb9-89f4-4840-b04d-1e1f874b521c"
      },
      "source": [
        "print(10 > 100) # False\n",
        "print(10 < 100) # True\n",
        "print(10 == 10) # True\n",
        "print(10 != 50) # True\n",
        "print(2 > 1 and 2 > 0) # True\n",
        "print(not True) # False\n",
        "print(not False) # True"
      ],
      "execution_count": null,
      "outputs": [
        {
          "output_type": "stream",
          "name": "stdout",
          "text": [
            "False\n",
            "True\n",
            "True\n",
            "True\n",
            "True\n",
            "False\n",
            "True\n"
          ]
        }
      ]
    },
    {
      "cell_type": "markdown",
      "metadata": {
        "id": "dvM-V2jmCLhW"
      },
      "source": [
        "## 2.2 Koşul Durumlar\n",
        "\n",
        "Aşağıdakiler, Python'daki if-else koşullu ifadesinin bir örneğidir. Bazı koşullara göre mantık yürütmek için kullanılır. Koşul yerine getirilmezse, else bloğundaki kod çalıştırılır. Koşullu bir ifadenin içindeki blok da girintilidir."
      ]
    },
    {
      "cell_type": "code",
      "metadata": {
        "id": "waXmNuX4CLhW",
        "colab": {
          "base_uri": "https://localhost:8080/"
        },
        "outputId": "6d86c387-1595-48a7-a02c-4c7e39cc8030"
      },
      "source": [
        "age = input('Yaşınızı girin: ')\n",
        "\n",
        "if (int(age) >= 18):\n",
        "  print('Kulübe girebilirsiniz.')\n",
        "else:\n",
        "  print('Özür dileriz, kulübe giremezsiniz!')"
      ],
      "execution_count": null,
      "outputs": [
        {
          "output_type": "stream",
          "name": "stdout",
          "text": [
            "Yaşınızı girin: 20\n",
            "Kulübe girebilirsiniz.\n"
          ]
        }
      ]
    },
    {
      "cell_type": "code",
      "metadata": {
        "id": "30g7Xpc2CLhW",
        "colab": {
          "base_uri": "https://localhost:8080/"
        },
        "outputId": "e66d0b4d-6094-4090-fa42-8d2ef29423b7"
      },
      "source": [
        "exam_score = input('Sınav notunuzu girin: ')\n",
        "\n",
        "if (int(exam_score) > 90):\n",
        "    print('Aldığınız not A+, tebrikler!')\n",
        "\n",
        "elif (int(exam_score) > 80):\n",
        "    print('Aldığınız not A')\n",
        "\n",
        "else:\n",
        "    print('Aldığınız not B')"
      ],
      "execution_count": null,
      "outputs": [
        {
          "output_type": "stream",
          "name": "stdout",
          "text": [
            "Sınav notunuzu girin: 85\n",
            "Aldığınız not A\n"
          ]
        }
      ]
    },
    {
      "cell_type": "code",
      "metadata": {
        "id": "YmBdAXFICLhX",
        "colab": {
          "base_uri": "https://localhost:8080/"
        },
        "outputId": "234cbc5c-124b-44fb-e3ae-5869a88e00f2"
      },
      "source": [
        "is_adult = True\n",
        "is_licensed = True\n",
        "\n",
        "if (is_adult and is_licensed):\n",
        "    print('Araba kullanmaya izniniz var!')\n",
        "\n",
        "else:\n",
        "    print('Araba kullanmaya izniniz yok!')"
      ],
      "execution_count": null,
      "outputs": [
        {
          "output_type": "stream",
          "name": "stdout",
          "text": [
            "Araba kullanmaya izniniz var!\n"
          ]
        }
      ]
    },
    {
      "cell_type": "markdown",
      "metadata": {
        "id": "XC2WdG0BCv3m"
      },
      "source": [
        "### Ornek Calisma"
      ]
    },
    {
      "cell_type": "code",
      "metadata": {
        "id": "r7zQczqGCzE6",
        "colab": {
          "base_uri": "https://localhost:8080/"
        },
        "outputId": "d8da62ba-adc3-44c5-ea1d-219da5826749"
      },
      "source": [
        "print(\"**************ATM Giriş Paneli**************\")\n",
        "\n",
        "# Database'de Kayitli Kullanici Adi ve Sifre\n",
        "db_kullanici_adi = \"Omer\"\n",
        "db_parola = \"hello\"\n",
        "\n",
        "# Kullanicidan Sorgulanacak Kullanici Adi ve Sifre\n",
        "kullanici_adi = input(\"Lütfen kullanıcı adınızı giriniz: \")\n",
        "parola = input(\"Lütfen Parolanızı giriniz: \")\n",
        "\n",
        "# Program\n",
        "if (kullanici_adi != db_kullanici_adi and parola == db_parola):\n",
        "    print(\"Kullanıcı adınız hatalı\")\n",
        "\n",
        "elif (kullanici_adi == db_kullanici_adi and parola != db_parola):\n",
        "    print(\"Parolanız hatalı\")\n",
        "\n",
        "elif (kullanici_adi != db_kullanici_adi and parola != db_parola):\n",
        "    print(\"Kullanıcı adınız ve parolanız hatalıdır.\")\n",
        "\n",
        "else:\n",
        "    print(\"Tebrikler, Başarıyla giriş yaptınız\")"
      ],
      "execution_count": null,
      "outputs": [
        {
          "output_type": "stream",
          "name": "stdout",
          "text": [
            "**************ATM Giriş Paneli**************\n",
            "Lütfen kullanıcı adınızı giriniz: Omer\n",
            "Lütfen Parolanızı giriniz: hello\n",
            "Tebrikler, Başarıyla giriş yaptınız\n"
          ]
        }
      ]
    },
    {
      "cell_type": "markdown",
      "metadata": {
        "id": "gmvgEgynDgfR"
      },
      "source": [
        "### Ic Ice Kosullar"
      ]
    },
    {
      "cell_type": "code",
      "metadata": {
        "id": "tE_u8zCHDg29",
        "colab": {
          "base_uri": "https://localhost:8080/"
        },
        "outputId": "bad7f0d9-d922-4c0f-c15c-242bf4dc82fd"
      },
      "source": [
        "x = 10\n",
        "\n",
        "if x > 5:\n",
        "  print(\"AHAHA\")\n",
        "  if x >11:\n",
        "    print(\"İlker and Eylül\")"
      ],
      "execution_count": null,
      "outputs": [
        {
          "output_type": "stream",
          "name": "stdout",
          "text": [
            "AHAHA\n"
          ]
        }
      ]
    },
    {
      "cell_type": "markdown",
      "metadata": {
        "id": "gDwccPO2_c0R"
      },
      "source": [
        "### Question\n",
        "\n",
        "At a particular company, employees’ salaries are raised progressively, calculated using the following formula:\n",
        "\n",
        "salary = salary + salary x (raise percentage) \n",
        "\n",
        "Raises are predefined as given below, according to the current salary of the worker. For instance, if the worker’s current salary is less than or equal to 1000 TL, then its salary is increased 15%.\n",
        "\n",
        "\n",
        "Range | Percentage\n",
        "--- | ---\n",
        "0 < salary ≤ 1000 | 15%\n",
        "1000 < salary ≤ 2000 |10%\n",
        "2000 < salary ≤ 3000| 5%\n",
        "3000 < salary | 2.5%\n",
        "\n",
        "\n",
        "Write a program that asks the user to enter his/her salary. Then your program should calculate and print the raised salary of the user.\n",
        "\n",
        "Some example program runs:\n",
        "\n",
        "Please enter your salary: 1000\n",
        "\n",
        "Your raised salary is 1150.0.\n",
        "\n",
        "Please enter your salary: 2500\n",
        "\n",
        "Your raised salary is 2625.0."
      ]
    },
    {
      "cell_type": "code",
      "source": [
        "a = 10\n",
        "print(a)"
      ],
      "metadata": {
        "colab": {
          "base_uri": "https://localhost:8080/"
        },
        "id": "C7x2knhjLeN9",
        "outputId": "c4dd71a8-ad1b-4aa8-923b-7790d3ac1f90"
      },
      "execution_count": null,
      "outputs": [
        {
          "output_type": "stream",
          "name": "stdout",
          "text": [
            "10\n"
          ]
        }
      ]
    },
    {
      "cell_type": "code",
      "source": [
        "a = 10 + 1\n",
        "a"
      ],
      "metadata": {
        "colab": {
          "base_uri": "https://localhost:8080/"
        },
        "id": "Bz30jGE5LhBf",
        "outputId": "b1af697e-a91b-4293-dac7-2eca7bdfe743"
      },
      "execution_count": null,
      "outputs": [
        {
          "output_type": "execute_result",
          "data": {
            "text/plain": [
              "11"
            ]
          },
          "metadata": {},
          "execution_count": 20
        }
      ]
    },
    {
      "cell_type": "code",
      "source": [
        "a = 12"
      ],
      "metadata": {
        "id": "63EBhd4GLmZo"
      },
      "execution_count": null,
      "outputs": []
    },
    {
      "cell_type": "code",
      "source": [
        "a += 1 # a = a + 1\n",
        "a"
      ],
      "metadata": {
        "colab": {
          "base_uri": "https://localhost:8080/"
        },
        "id": "F6vfMLADLvp6",
        "outputId": "48ab4155-f608-4a9f-f3e5-d5e5f1411318"
      },
      "execution_count": null,
      "outputs": [
        {
          "output_type": "execute_result",
          "data": {
            "text/plain": [
              "16"
            ]
          },
          "metadata": {},
          "execution_count": 27
        }
      ]
    },
    {
      "cell_type": "code",
      "source": [
        "a *= 5 # a = a * 5"
      ],
      "metadata": {
        "id": "av5uFoHRLvFb"
      },
      "execution_count": null,
      "outputs": []
    },
    {
      "cell_type": "code",
      "source": [
        "a /= 4\n",
        "a"
      ],
      "metadata": {
        "colab": {
          "base_uri": "https://localhost:8080/"
        },
        "id": "zaA4_kl9LvPg",
        "outputId": "7bce7738-7848-4268-e84f-61b9f9eee659"
      },
      "execution_count": null,
      "outputs": [
        {
          "output_type": "execute_result",
          "data": {
            "text/plain": [
              "20.0"
            ]
          },
          "metadata": {},
          "execution_count": 30
        }
      ]
    },
    {
      "cell_type": "markdown",
      "metadata": {
        "id": "ZfMXLFHyFkDT"
      },
      "source": [
        "### Answer"
      ]
    },
    {
      "cell_type": "code",
      "metadata": {
        "id": "iXxyMx5KFj89",
        "colab": {
          "base_uri": "https://localhost:8080/"
        },
        "outputId": "42b846f0-c934-4d81-ec1b-72389f451d63"
      },
      "source": [
        "salary = float(input(\"Please enter your salary: \"))\n",
        "\n",
        "if salary < 0:\n",
        "    print(\"Invalid value\")\n",
        "else:\n",
        "\n",
        "    if 0 < salary <= 1000:\n",
        "        salary = salary + salary * 0.15\n",
        "    elif salary <= 2000:\n",
        "        salary = salary + salary * 0.1\n",
        "    elif salary <= 3000:\n",
        "        salary = salary + salary * 0.05\n",
        "    else:\n",
        "        salary = salary + salary * 0.025\n",
        "\n",
        "    print(\"Your raised salary is\", salary)"
      ],
      "execution_count": null,
      "outputs": [
        {
          "output_type": "stream",
          "name": "stdout",
          "text": [
            "Please enter your salary: 2500\n",
            "Your raised salary is 2625.0\n"
          ]
        }
      ]
    },
    {
      "cell_type": "markdown",
      "metadata": {
        "id": "GWhbQW7aFy1h"
      },
      "source": [
        "# 3. Döngüler\n",
        "\n",
        "Döngüler, bir kod bloğunun birkaç kez çalıştırılmasına izin verir."
      ]
    },
    {
      "cell_type": "markdown",
      "metadata": {
        "id": "4svV-k30Fy1k"
      },
      "source": [
        "## 3.1 For Döngüsü (For Loop)\n",
        "\n",
        "Python'da, temel döngü biçimi, yinelenebilir bir döngü üzerinde döngü yapabilen bir for döngüsüdür."
      ]
    },
    {
      "cell_type": "code",
      "source": [
        "for i in range(2, 5):\n",
        "  print(i)"
      ],
      "metadata": {
        "colab": {
          "base_uri": "https://localhost:8080/"
        },
        "id": "cfX3N0QXMgGJ",
        "outputId": "fc405f4f-7223-41d7-f23f-b05dcc9661da"
      },
      "execution_count": null,
      "outputs": [
        {
          "output_type": "stream",
          "name": "stdout",
          "text": [
            "2\n",
            "3\n",
            "4\n"
          ]
        }
      ]
    },
    {
      "cell_type": "code",
      "metadata": {
        "id": "4x4YfPKnFy1k",
        "colab": {
          "base_uri": "https://localhost:8080/"
        },
        "outputId": "f1ba5e0b-8a11-45fa-8ef3-4c3a11ea21ca"
      },
      "source": [
        "for item in 'Python': # Stringler üzerinde gezilebilir\n",
        "    print(item) # Verilen stringdeki tüm harflerin üzerin geçer"
      ],
      "execution_count": null,
      "outputs": [
        {
          "output_type": "stream",
          "name": "stdout",
          "text": [
            "P\n",
            "y\n",
            "t\n",
            "h\n",
            "o\n",
            "n\n"
          ]
        }
      ]
    },
    {
      "cell_type": "code",
      "metadata": {
        "id": "pqLJHaSJFy1m",
        "colab": {
          "base_uri": "https://localhost:8080/"
        },
        "outputId": "1ec0b281-0c27-40d0-8c16-32a30221928e"
      },
      "source": [
        "for item in [1,2,3,4,5]: # Listeler üzerinde gezilebilir\n",
        "    print(item) # Verilen listedeki tüm harflerin üzerin geçer"
      ],
      "execution_count": null,
      "outputs": [
        {
          "output_type": "stream",
          "name": "stdout",
          "text": [
            "1\n",
            "2\n",
            "3\n",
            "4\n",
            "5\n"
          ]
        }
      ]
    },
    {
      "cell_type": "markdown",
      "metadata": {
        "id": "p4ZXgtwLFy1m"
      },
      "source": [
        "### Iterable"
      ]
    },
    {
      "cell_type": "markdown",
      "metadata": {
        "id": "eRk0df8gFy1m"
      },
      "source": [
        "Itareble, yinelenebilen bir veri koleksiyonudur. Koleksiyondaki parçaların tek tek işlenebileceği anlamına gelir. \n",
        "\n",
        "Listeler, dizeler, tuple'lar, kümeler ve sözlüklerin hepsi itarebledir. Yinelenebilir üzerinde gerçekleştirilen eyleme iterasyon denir."
      ]
    },
    {
      "cell_type": "code",
      "metadata": {
        "id": "JgRFb0NvFy1n"
      },
      "source": [
        "player = {\n",
        "  'firstname': 'Ömer',\n",
        "  'lastname': 'Cengiz',\n",
        "  'role': 'captain'\n",
        "}"
      ],
      "execution_count": null,
      "outputs": []
    },
    {
      "cell_type": "code",
      "metadata": {
        "id": "28qQNr0xFy1n",
        "colab": {
          "base_uri": "https://localhost:8080/"
        },
        "outputId": "fb9d8999-93a9-4048-a13e-c260f854cae4"
      },
      "source": [
        "for item in player: # iterates over the keys of player\n",
        "    print(item) # prints all keys"
      ],
      "execution_count": null,
      "outputs": [
        {
          "output_type": "stream",
          "name": "stdout",
          "text": [
            "firstname\n",
            "lastname\n",
            "role\n"
          ]
        }
      ]
    },
    {
      "cell_type": "code",
      "metadata": {
        "id": "5S4aBBa4Fy1n",
        "colab": {
          "base_uri": "https://localhost:8080/"
        },
        "outputId": "690606d2-5a68-4457-a1f9-d12db6b4ca1e"
      },
      "source": [
        "for item in player.keys(): \n",
        "    print(item) # prints all keys"
      ],
      "execution_count": null,
      "outputs": [
        {
          "output_type": "stream",
          "name": "stdout",
          "text": [
            "firstname\n",
            "lastname\n",
            "role\n"
          ]
        }
      ]
    },
    {
      "cell_type": "code",
      "metadata": {
        "id": "9mblj3EbFy1o",
        "colab": {
          "base_uri": "https://localhost:8080/"
        },
        "outputId": "c24cbdb5-4406-4cf7-92b5-ea7ae7736c22"
      },
      "source": [
        "for item in player.values():\n",
        "    print(item) # prints all values"
      ],
      "execution_count": null,
      "outputs": [
        {
          "output_type": "stream",
          "name": "stdout",
          "text": [
            "Ömer\n",
            "Cengiz\n",
            "captain\n"
          ]
        }
      ]
    },
    {
      "cell_type": "code",
      "metadata": {
        "id": "t_bBC76uFy1o",
        "colab": {
          "base_uri": "https://localhost:8080/"
        },
        "outputId": "75e3fb62-457b-45bf-a53d-f7b975e939ec"
      },
      "source": [
        "for item in player.items():\n",
        "    print(item) # prints key and value as tuple"
      ],
      "execution_count": null,
      "outputs": [
        {
          "output_type": "stream",
          "name": "stdout",
          "text": [
            "('firstname', 'Ömer')\n",
            "('lastname', 'Cengiz')\n",
            "('role', 'captain')\n"
          ]
        }
      ]
    },
    {
      "cell_type": "code",
      "source": [
        "player.items()"
      ],
      "metadata": {
        "colab": {
          "base_uri": "https://localhost:8080/"
        },
        "id": "NavriZyvOXfN",
        "outputId": "a18c28cf-6e25-4824-eb36-4261fdff6373"
      },
      "execution_count": null,
      "outputs": [
        {
          "output_type": "execute_result",
          "data": {
            "text/plain": [
              "dict_items([('firstname', 'Ömer'), ('lastname', 'Cengiz'), ('role', 'captain')])"
            ]
          },
          "metadata": {},
          "execution_count": 49
        }
      ]
    },
    {
      "cell_type": "code",
      "metadata": {
        "id": "ChgPmKhWFy1o",
        "colab": {
          "base_uri": "https://localhost:8080/"
        },
        "outputId": "634254b9-b42c-4186-a1ff-7e223ec00ff5"
      },
      "source": [
        "for key, value in player.items():\n",
        "    print(key + '\\n' + value) # prints key and value using unpacking"
      ],
      "execution_count": null,
      "outputs": [
        {
          "output_type": "stream",
          "name": "stdout",
          "text": [
            "firstname\n",
            "Ömer\n",
            "lastname\n",
            "Cengiz\n",
            "role\n",
            "captain\n"
          ]
        }
      ]
    },
    {
      "cell_type": "markdown",
      "metadata": {
        "id": "5iyBPxjxFy1p"
      },
      "source": [
        "### range\n",
        "\n",
        "range, Python'da bir dizi sayı oluşturmak için kullanılan yinelenebilir bir nesnedir. Genellikle döngülerde ve bir liste oluşturmak için kullanılır."
      ]
    },
    {
      "cell_type": "code",
      "metadata": {
        "id": "LJ0jZ5dEFy1p",
        "scrolled": true,
        "colab": {
          "base_uri": "https://localhost:8080/"
        },
        "outputId": "c7411703-df59-470b-e247-07a90527f159"
      },
      "source": [
        "for item in range(10):\n",
        "    print('python') # prints python 10 times"
      ],
      "execution_count": null,
      "outputs": [
        {
          "output_type": "stream",
          "name": "stdout",
          "text": [
            "python\n",
            "python\n",
            "python\n",
            "python\n",
            "python\n",
            "python\n",
            "python\n",
            "python\n",
            "python\n",
            "python\n"
          ]
        }
      ]
    },
    {
      "cell_type": "code",
      "metadata": {
        "id": "VWx3nv5sFy1p",
        "colab": {
          "base_uri": "https://localhost:8080/"
        },
        "outputId": "b0ddd44b-b841-436c-c87d-d00f3aa46306"
      },
      "source": [
        "for item in range(0,10,1): # range(start, stop, step)\n",
        "    print('hello') # prints hello 10 times"
      ],
      "execution_count": null,
      "outputs": [
        {
          "output_type": "stream",
          "name": "stdout",
          "text": [
            "hello\n",
            "hello\n",
            "hello\n",
            "hello\n",
            "hello\n",
            "hello\n",
            "hello\n",
            "hello\n",
            "hello\n",
            "hello\n"
          ]
        }
      ]
    },
    {
      "cell_type": "code",
      "metadata": {
        "id": "0dJCTxBNFy1q",
        "colab": {
          "base_uri": "https://localhost:8080/"
        },
        "outputId": "08b02ed2-ed15-41af-d78e-5b0b8458cf9b"
      },
      "source": [
        "for item in range(0, 10, 2):\n",
        "    print('hii') # prints hii 5 times "
      ],
      "execution_count": null,
      "outputs": [
        {
          "output_type": "stream",
          "name": "stdout",
          "text": [
            "hii\n",
            "hii\n",
            "hii\n",
            "hii\n",
            "hii\n"
          ]
        }
      ]
    },
    {
      "cell_type": "code",
      "source": [
        "for item in range(0, 10, 2):\n",
        "    print(item) # prints hii 5 times "
      ],
      "metadata": {
        "colab": {
          "base_uri": "https://localhost:8080/"
        },
        "id": "Ub5Wt6gMPFuR",
        "outputId": "23aa8711-4c62-4b7c-d948-96dc786a7635"
      },
      "execution_count": null,
      "outputs": [
        {
          "output_type": "stream",
          "name": "stdout",
          "text": [
            "0\n",
            "2\n",
            "4\n",
            "6\n",
            "8\n"
          ]
        }
      ]
    },
    {
      "cell_type": "code",
      "metadata": {
        "id": "fq9R9fSWFy1q",
        "colab": {
          "base_uri": "https://localhost:8080/"
        },
        "outputId": "ea739544-1946-4016-889b-c491c801f2fa"
      },
      "source": [
        "for item in range(10, 0, -1):\n",
        "    print(item) # prints in reverse order"
      ],
      "execution_count": null,
      "outputs": [
        {
          "output_type": "stream",
          "name": "stdout",
          "text": [
            "10\n",
            "9\n",
            "8\n",
            "7\n",
            "6\n",
            "5\n",
            "4\n",
            "3\n",
            "2\n",
            "1\n"
          ]
        }
      ]
    },
    {
      "cell_type": "code",
      "metadata": {
        "id": "p3ZtMH61Fy1q",
        "colab": {
          "base_uri": "https://localhost:8080/"
        },
        "outputId": "f091f39d-ce40-488c-c44d-5468edb6ee1d"
      },
      "source": [
        "print(list(range(10))) # generates a list of 10 items"
      ],
      "execution_count": null,
      "outputs": [
        {
          "output_type": "stream",
          "name": "stdout",
          "text": [
            "[0, 1, 2, 3, 4, 5, 6, 7, 8, 9]\n"
          ]
        }
      ]
    },
    {
      "cell_type": "markdown",
      "metadata": {
        "id": "DA-U5yc4Fy1q"
      },
      "source": [
        "### enumerate\n",
        "\n",
        "enumerate, döngü sırasında yineleyicinin dizinine ihtiyacımız olduğunda kullanışlıdır."
      ]
    },
    {
      "cell_type": "code",
      "metadata": {
        "id": "_dooUfDxFy1r",
        "scrolled": true,
        "colab": {
          "base_uri": "https://localhost:8080/"
        },
        "outputId": "63280eb9-5004-4639-959e-2eb9ddc6d7c3"
      },
      "source": [
        "for key, value in enumerate(range(10)): # using unpacking techique \n",
        "    print(f'key is {key} and value is {value}') # prints key and value at the same time"
      ],
      "execution_count": null,
      "outputs": [
        {
          "output_type": "stream",
          "name": "stdout",
          "text": [
            "key is 0 and value is 0\n",
            "key is 1 and value is 1\n",
            "key is 2 and value is 2\n",
            "key is 3 and value is 3\n",
            "key is 4 and value is 4\n",
            "key is 5 and value is 5\n",
            "key is 6 and value is 6\n",
            "key is 7 and value is 7\n",
            "key is 8 and value is 8\n",
            "key is 9 and value is 9\n"
          ]
        }
      ]
    },
    {
      "cell_type": "markdown",
      "metadata": {
        "id": "5zdhALFLFy1r"
      },
      "source": [
        "## 3.2 While Döngüsü (While Loop)\n",
        "\n",
        "Döngüler, belirli bir koşula bağlı olarak bir kod bloğunu birkaç kez çalıştırmanın başka bir yoludur. Yanlışlıkla sistemlerimizi çökertene kadar çalışmaya devam edecek sonsuz bir döngü oluşturmamak için while döngüleriyle uğraşırken biraz dikkatli olmalıyız!"
      ]
    },
    {
      "cell_type": "code",
      "source": [
        "age = 10\n",
        "\n",
        "if True:\n",
        "  age /= 5\n",
        "  print(age)"
      ],
      "metadata": {
        "colab": {
          "base_uri": "https://localhost:8080/"
        },
        "id": "JlFPsx_tQm8x",
        "outputId": "1e1447d7-3550-492c-f83a-1ca4ea15da8e"
      },
      "execution_count": null,
      "outputs": [
        {
          "output_type": "stream",
          "name": "stdout",
          "text": [
            "2.0\n"
          ]
        }
      ]
    },
    {
      "cell_type": "markdown",
      "metadata": {
        "id": "y7wGmxjLHIM0"
      },
      "source": [
        "```python\n",
        "hungry = True\n",
        "\n",
        "while(hungry): # Bu her zaman doğrudur, bu nedenle sistem çökene kadar yazdırmaya devam eder!\n",
        "    print('Bana yiyecek bir şeyler ver!')\n",
        "```"
      ]
    },
    {
      "cell_type": "markdown",
      "metadata": {
        "id": "J1RLzVoqFy1r"
      },
      "source": [
        "Ancak döngüler kullanışlıdır. Yazması basit ve okuması kolaydır. Sadece döngüyü ne zaman durduracağını söylememiz gerekiyor. Döngü yürütmeyi durduran ve döngüden çıkan bir `break` deyimi kullanılarak yapılabilir. Başka bir yol da, yürütmeyi durdurmak için koşulu `False`'a çevirmektir."
      ]
    },
    {
      "cell_type": "code",
      "metadata": {
        "id": "PrOp3JnfFy1s",
        "scrolled": true,
        "colab": {
          "base_uri": "https://localhost:8080/"
        },
        "outputId": "b66520f9-0fb3-40a1-f1c1-e1e297d7f2da"
      },
      "source": [
        "hungry = True\n",
        "satisfaction = 0\n",
        "\n",
        "while (satisfaction < 10):\n",
        "    satisfaction += 1\n",
        "    print('Bana yiyecek bir şeyler ver!') # on kere yazar"
      ],
      "execution_count": null,
      "outputs": [
        {
          "output_type": "stream",
          "name": "stdout",
          "text": [
            "Bana yiyecek bir şeyler ver!\n",
            "Bana yiyecek bir şeyler ver!\n",
            "Bana yiyecek bir şeyler ver!\n",
            "Bana yiyecek bir şeyler ver!\n",
            "Bana yiyecek bir şeyler ver!\n",
            "Bana yiyecek bir şeyler ver!\n",
            "Bana yiyecek bir şeyler ver!\n",
            "Bana yiyecek bir şeyler ver!\n",
            "Bana yiyecek bir şeyler ver!\n",
            "Bana yiyecek bir şeyler ver!\n"
          ]
        }
      ]
    },
    {
      "cell_type": "markdown",
      "metadata": {
        "id": "sVfaEEqDFy1s"
      },
      "source": [
        "## 3.3 Kısa bir egsersiz\n",
        "\n",
        "Yinelenen e-postaları bir e-posta listesinde bulalım ve yazdıralım."
      ]
    },
    {
      "cell_type": "code",
      "metadata": {
        "id": "qcFKc_pRFy1s",
        "scrolled": true,
        "colab": {
          "base_uri": "https://localhost:8080/"
        },
        "outputId": "6b8c6e6d-6405-4660-bdde-d6db15f5b4d0"
      },
      "source": [
        "email_list = ['roger@hey.com','michael@hey.com','roger@hey.com','prince@gmail.com']\n",
        "duplicate_emails = []\n",
        "\n",
        "for email in email_list:\n",
        "    if email_list.count(email) > 1 and email not in duplicate_emails: # false \n",
        "        duplicate_emails.append(email)\n",
        "        \n",
        "print(duplicate_emails)"
      ],
      "execution_count": null,
      "outputs": [
        {
          "output_type": "stream",
          "name": "stdout",
          "text": [
            "roger@hey.com\n",
            "michael@hey.com\n",
            "roger@hey.com\n",
            "prince@gmail.com\n"
          ]
        }
      ]
    },
    {
      "cell_type": "code",
      "source": [
        "email_list.count('roger@hey.com')"
      ],
      "metadata": {
        "colab": {
          "base_uri": "https://localhost:8080/"
        },
        "id": "uNw_jj0xSpjs",
        "outputId": "e9bd1f81-756d-4d70-d287-ed983cc57acc"
      },
      "execution_count": null,
      "outputs": [
        {
          "output_type": "execute_result",
          "data": {
            "text/plain": [
              "2"
            ]
          },
          "metadata": {},
          "execution_count": 5
        }
      ]
    },
    {
      "cell_type": "markdown",
      "source": [
        "### Break - Continue"
      ],
      "metadata": {
        "id": "XMYVSUM8SPSS"
      }
    },
    {
      "cell_type": "code",
      "source": [
        "# break\n",
        "for i in range(10):\n",
        "  print(i)\n",
        "  if i == 5:\n",
        "    break"
      ],
      "metadata": {
        "colab": {
          "base_uri": "https://localhost:8080/"
        },
        "id": "wATWHW-3SLeu",
        "outputId": "42370c7c-3864-401b-9125-06468e7666f1"
      },
      "execution_count": null,
      "outputs": [
        {
          "output_type": "stream",
          "name": "stdout",
          "text": [
            "0\n",
            "1\n",
            "2\n",
            "3\n",
            "4\n",
            "5\n"
          ]
        }
      ]
    },
    {
      "cell_type": "code",
      "source": [
        "# continue\n",
        "for value in 'Harun':\n",
        "  if value == 'u':\n",
        "    continue\n",
        "  print(value)  \n",
        "print(\"Bittik.\")"
      ],
      "metadata": {
        "colab": {
          "base_uri": "https://localhost:8080/"
        },
        "id": "RJd2XwYDTajp",
        "outputId": "adff6da9-a657-45c1-feab-aa28e688c2b6"
      },
      "execution_count": null,
      "outputs": [
        {
          "output_type": "stream",
          "name": "stdout",
          "text": [
            "H\n",
            "a\n",
            "r\n",
            "n\n",
            "Bittik.\n"
          ]
        }
      ]
    },
    {
      "cell_type": "markdown",
      "metadata": {
        "id": "FVF48defGC69"
      },
      "source": [
        "### Proje: Sosyal Medya Hesap İşlemleri\n",
        "\n",
        "Giris_bilgileri adında Anahtar değeri = kullanıcı adı, Değeri = şifre olan bir sözlük oluşturun.\n",
        "\n",
        "Kullanıcıdan isim için bir girdi isteyin. Eğer sözlükte böyle bir isim varsa şifre isteyin yoksa \"Böyle bir kullanıcı bulunamadı yazdırın\". Girilen şifre ve isim doğruysa bir while döngü başlatın ve kullanıcıya bir menü yazdırın. \n",
        "\n",
        "menü = '''\n",
        "      1: Şifre Değiştir\n",
        "      2: Kullanıcı Adı Değiştir\n",
        "      3: Hesabı Sil\n",
        "      q: Çıkış Yap\n",
        "      '''\n",
        "while döngüsünde ilk olarak kullanıcıdan menüden bir seçim yapmasını isteyin.\n",
        "- Seçim 1 ise, kullanıcıdan girdi olarak 8 haneden uzun yeni bir şifre talep edin. Giriş bilgileri isimli sözlükte şifre(value) değerini yeni şifre ile değiştirin\n",
        "- Seçim 2 ise, kullanıcıdan girdi olarak yeni bir isim talep edin. Giriş bilgileri isimli sözlükte isim(key) değerini yeni isim ile değiştirin\n",
        "- Seçim 3 ise, giriş bilgileri isimli sözlükten giriş yapmış olan kullanıcıyı siliniz\n",
        "- Seçim q ise, while döngüsünü bitirip uygulamayı sonlandırınız"
      ]
    },
    {
      "cell_type": "code",
      "metadata": {
        "id": "Bwc0GLZH_962"
      },
      "source": [
        "giris_bilgileri = {\"GlobalAIHub\":\"Global123\"}\n",
        "kullanici_adi = input(\"Kullanıcı Adı: \")\n",
        "girildi_mi = False\n",
        "if kullanici_adi in giris_bilgileri.keys():\n",
        "  sifre = input(\"Şifre: \")\n",
        "  if giris_bilgileri[kullanici_adi] == sifre:\n",
        "    print(\"Giriş Başarılı\")\n",
        "    girildi_mi = True\n",
        "  else: print(\"Şifre Yanlış\")\n",
        "else:\n",
        "  print(\"Böyle bir kullanıcı bulunamadı\")\n",
        "\n",
        "menu = '''\n",
        "1: Şifre Değiştir\n",
        "2: Kullanıcı Adı Değiştir\n",
        "3: Hesabı Sil\n",
        "q: Çıkış Yap\n",
        "'''\n",
        "while girildi_mi:\n",
        "  print(menu)\n",
        "  secim = input(\"Lütfen seçim yapınız: \")\n",
        "  print(\"*\"*50)\n",
        "\n",
        "  if secim == \"1\":\n",
        "    yeni_sifre = input(\"\\nLütfen yeni şifrenizi giriniz: \")\n",
        "    if len(yeni_sifre) >= 8:\n",
        "      giris_bilgileri[kullanici_adi] = yeni_sifre\n",
        "      print(f\"\\nYeni şifreniz {yeni_sifre} olarak değiştirildi!\")\n",
        "    else: print(\"Şifre en az 8 haneli olmalıdır\")\n",
        "\n",
        "  elif secim == \"2\":\n",
        "    yeni_isim = input(\"\\nLütfen yeni kullanıcı adınızı giriniz: \")\n",
        "    giris_bilgileri[yeni_isim] = giris_bilgileri[kullanici_adi]\n",
        "    del giris_bilgileri[kullanici_adi]\n",
        "    kullanici_adi = yeni_isim\n",
        "    print(f\"\\nKullanıcı adınız {yeni_isim} olarak değiştirildi!\")\n",
        "\n",
        "  elif secim == \"3\":\n",
        "    del giris_bilgileri[silinecek_isim]\n",
        "    print(\"Hesabınız başarılı bir şekilde silindi\")\n",
        "\n",
        "  elif secim == \"q\":\n",
        "    print(\"Görüşmek üzere...\")\n",
        "    break # girildi_mi = False\n",
        "\n",
        "  else:\n",
        "    print(\"Hatalı bir seçim yaptınız. Lütfen tekrar deneyin\")"
      ],
      "execution_count": null,
      "outputs": []
    }
  ]
}